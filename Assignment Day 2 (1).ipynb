{
 "cells": [
  {
   "cell_type": "raw",
   "metadata": {},
   "source": [
    "Answer 1"
   ]
  },
  {
   "cell_type": "code",
   "execution_count": 25,
   "metadata": {},
   "outputs": [
    {
     "name": "stdout",
     "output_type": "stream",
     "text": [
      "1\n",
      "5\n",
      "6\n",
      "8\n",
      "9\n",
      "3\n",
      "65\n",
      "56\n",
      "54\n",
      "54\n",
      "[6]\n",
      "[6, 8]\n",
      "[6, 8, 56]\n",
      "[6, 8, 56, 54]\n",
      "[6, 8, 56, 54, 54]\n"
     ]
    }
   ],
   "source": [
    "a=[]\n",
    "\n",
    "for i in range(1,11):\n",
    "    b=int(input())\n",
    "    a.append(b)\n",
    "even=[]\n",
    "for j in a:\n",
    "    if(j % 2 == 0):\n",
    "        even.append(j)\n",
    "        print(even)"
   ]
  },
  {
   "cell_type": "raw",
   "metadata": {},
   "source": [
    "Answer 2"
   ]
  },
  {
   "cell_type": "raw",
   "metadata": {},
   "source": [
    "List comprehensions are used for creating new lists from other iterables.\n",
    "As list comprehensions return lists, they consist of brackets containing the expression, which is executed for each element along with the for loop to iterate over each element.\n",
    "\n",
    "This is the basic syntax:\n",
    "new_list = [expression for_loop_one_or_more conditions]\n",
    "For example, find the squares of a number using the for loop:\n",
    "\n",
    "Finding squares using list comprehensions:\n",
    "\n",
    "Here, square brackets signify that the output is a list. n**2 is the expression executed for each element and for n in numbers is used to iterate over each element. In other words, execute n**2 (expression) for each element in numbers.\n",
    "A more complex example of list comprehension:\n",
    "Find common numbers from two lists using for loop.\n",
    "Using conditions in list comprehensions:\n",
    "\n",
    "Find common numbers from two lists using list comprehension:\n",
    "\n",
    "Return numbers from the list which are not equal as a tuple:\n",
    "\n",
    "Here. as we are returning a list of tuples, tuples must be in parenthesis to avoid errors. In the above example, tuples with a and b will be printed such that a and b are not the same.\n",
    "List comprehensions can also be used to iterate over strings, as shown below:\n",
    "\n",
    "This example converts each of the string from list_a to a smaller case.\n",
    "Like tuples, list comprehensions can be used to produce a list of a list, as shown below:\n",
    "\n",
    "Here we use list_a to create square_cube_list, which is a list of list in Python containing squares and cubes of the numbers from list_a\n"
   ]
  },
  {
   "cell_type": "raw",
   "metadata": {},
   "source": [
    "Answer 3"
   ]
  },
  {
   "cell_type": "code",
   "execution_count": 6,
   "metadata": {},
   "outputs": [
    {
     "name": "stdout",
     "output_type": "stream",
     "text": [
      "8\n",
      "{1: 1}\n",
      "{1: 1, 2: 4}\n",
      "{1: 1, 2: 4, 3: 9}\n",
      "{1: 1, 2: 4, 3: 9, 4: 16}\n",
      "{1: 1, 2: 4, 3: 9, 4: 16, 5: 25}\n",
      "{1: 1, 2: 4, 3: 9, 4: 16, 5: 25, 6: 36}\n",
      "{1: 1, 2: 4, 3: 9, 4: 16, 5: 25, 6: 36, 7: 49}\n",
      "{1: 1, 2: 4, 3: 9, 4: 16, 5: 25, 6: 36, 7: 49, 8: 64}\n"
     ]
    }
   ],
   "source": [
    "n=int(input())\n",
    "d=dict()\n",
    "for x in range(1,n+1):\n",
    "    d[x]=x*x\n",
    "    print(d)"
   ]
  },
  {
   "cell_type": "raw",
   "metadata": {},
   "source": [
    "Answer 4"
   ]
  },
  {
   "cell_type": "code",
   "execution_count": 17,
   "metadata": {},
   "outputs": [
    {
     "name": "stdout",
     "output_type": "stream",
     "text": [
      "UP 5\n",
      "distance= 5\n",
      "DOWN 3\n",
      "distance= 2\n",
      "LEFT 3\n",
      "distance= 4\n",
      "RIGHT 2\n",
      "distance= 2\n"
     ]
    }
   ],
   "source": [
    "pos=0\n",
    "moves={\"UP\":1j,\n",
    "      \"DOWN\":-1j,\n",
    "      \"LEFT\":-1,\n",
    "      \"RIGHT\":1}\n",
    "data=[\"UP 5\",\n",
    "     \"DOWN 3\",\n",
    "     \"LEFT 3\",\n",
    "     \"RIGHT 2\"]\n",
    "for inp in data:\n",
    "    parts=inp.split()\n",
    "    mv=parts[0]\n",
    "    val=parts[1]\n",
    "    print(mv,val)\n",
    "    pos += moves[mv]*int(val)\n",
    "    print(\"distance=\", round(abs(pos)))"
   ]
  }
 ],
 "metadata": {
  "kernelspec": {
   "display_name": "Python 3",
   "language": "python",
   "name": "python3"
  },
  "language_info": {
   "codemirror_mode": {
    "name": "ipython",
    "version": 3
   },
   "file_extension": ".py",
   "mimetype": "text/x-python",
   "name": "python",
   "nbconvert_exporter": "python",
   "pygments_lexer": "ipython3",
   "version": "3.8.3"
  }
 },
 "nbformat": 4,
 "nbformat_minor": 4
}
